{
 "cells": [
  {
   "cell_type": "code",
   "execution_count": 37,
   "metadata": {
    "collapsed": true
   },
   "outputs": [],
   "source": [
    "import numpy as np\n",
    "import csv\n",
    "import matplotlib.pyplot as plt\n",
    "%matplotlib inline"
   ]
  },
  {
   "cell_type": "code",
   "execution_count": 38,
   "metadata": {
    "collapsed": true
   },
   "outputs": [],
   "source": [
    "import csv"
   ]
  },
  {
   "cell_type": "code",
   "execution_count": 57,
   "metadata": {
    "collapsed": false
   },
   "outputs": [],
   "source": [
    "data = []\n",
    "with open('csvfile.csv', 'rb') as csvfile:\n",
    "    lines = csv.reader(csvfile)\n",
    "    for row in lines:\n",
    "            data.append(np.asarray(row,dtype=float))"
   ]
  },
  {
   "cell_type": "code",
   "execution_count": 58,
   "metadata": {
    "collapsed": false
   },
   "outputs": [
    {
     "data": {
      "text/plain": [
       "numpy.ndarray"
      ]
     },
     "execution_count": 58,
     "metadata": {},
     "output_type": "execute_result"
    }
   ],
   "source": [
    "type(data[10])"
   ]
  },
  {
   "cell_type": "code",
   "execution_count": 59,
   "metadata": {
    "collapsed": false
   },
   "outputs": [
    {
     "data": {
      "text/plain": [
       "(169,)"
      ]
     },
     "execution_count": 59,
     "metadata": {},
     "output_type": "execute_result"
    }
   ],
   "source": [
    "np.shape(data)"
   ]
  },
  {
   "cell_type": "code",
   "execution_count": 60,
   "metadata": {
    "collapsed": false
   },
   "outputs": [
    {
     "name": "stdout",
     "output_type": "stream",
     "text": [
      "435\n",
      "415\n",
      "442\n",
      "343\n",
      "414\n",
      "429\n",
      "428\n",
      "834\n",
      "428\n",
      "370\n"
     ]
    }
   ],
   "source": [
    "for i in range(0,10):\n",
    "    print len(data[i])"
   ]
  },
  {
   "cell_type": "code",
   "execution_count": 61,
   "metadata": {
    "collapsed": false
   },
   "outputs": [
    {
     "data": {
      "text/plain": [
       "[<matplotlib.lines.Line2D at 0x7efd4f649250>]"
      ]
     },
     "execution_count": 61,
     "metadata": {},
     "output_type": "execute_result"
    },
    {
     "data": {
      "image/png": "[encoded data removed]",
      "text/plain": [
       "<matplotlib.figure.Figure at 0x7efd4f6d3910>"
      ]
     },
     "metadata": {},
     "output_type": "display_data"
    }
   ],
   "source": [
    "plt.plot(data[10])"
   ]
  },
  {
   "cell_type": "code",
   "execution_count": 62,
   "metadata": {
    "collapsed": false
   },
   "outputs": [
    {
     "data": {
      "text/plain": [
       "numpy.float64"
      ]
     },
     "execution_count": 62,
     "metadata": {},
     "output_type": "execute_result"
    }
   ],
   "source": [
    "type(data[10][10])"
   ]
  },
  {
   "cell_type": "code",
   "execution_count": 56,
   "metadata": {
    "collapsed": false
   },
   "outputs": [
    {
     "data": {
      "text/plain": [
       "1083.0"
      ]
     },
     "execution_count": 56,
     "metadata": {},
     "output_type": "execute_result"
    }
   ],
   "source": [
    "data[10][10]"
   ]
  },
  {
   "cell_type": "code",
   "execution_count": 55,
   "metadata": {
    "collapsed": false
   },
   "outputs": [
    {
     "data": {
      "text/plain": [
       "array([ 2652.,  2652.,  2652.,  2658.,  2658.,  2652.,  2652.,  2652.,\n",
       "        2652.,  2658.,  2665.,  2665.,  2658.,  2665.,  2658.,  2665.,\n",
       "        2665.,  2671.,  2671.,  2671.,  2678.,  2684.,  2684.,  2684.,\n",
       "        2684.,  2684.,  2691.,  2684.,  2684.,  2684.,  2678.,  2678.,\n",
       "        2678.,  2678.,  2678.,  2678.,  2678.,  2671.,  2671.,  2665.,\n",
       "        2665.,  2665.,  2665.,  2658.,  2658.,  2658.,  2658.,  2658.,\n",
       "        2658.,  2658.,  2652.,  2652.,  2645.,  2645.,  2645.,  2639.,\n",
       "        2639.,  2639.,  2626.,  2626.,  2619.,  2612.,  2612.,  2612.,\n",
       "        2606.,  2606.,  2599.,  2593.,  2593.,  2586.,  2586.,  2586.,\n",
       "        2586.,  2580.,  2580.,  2586.,  2586.,  2586.,  2593.,  2599.,\n",
       "        2599.,  2599.,  2599.,  2593.,  2586.,  2593.,  2528.,  2508.,\n",
       "        2508.,  1851.,  1337.,   985.,   770.,   633.,   555.,   510.,\n",
       "         484.,   471.,   464.,   458.,   464.,   477.,   497.,   523.,\n",
       "         555.,   594.,   633.,   659.,   686.,   692.,   699.,   692.,\n",
       "         686.,   673.,   666.,   653.,   646.,   640.,   633.,   627.,\n",
       "         627.,   627.,   627.,   633.,   633.,   633.,   633.,   633.,\n",
       "         633.,   633.,   627.,   627.,   627.,   627.,   633.,   633.,\n",
       "         633.,   627.,   627.,   627.,   620.,   620.,   620.,   620.,\n",
       "         620.,   614.,   614.,   614.,   614.,   614.,   614.,   614.,\n",
       "         614.,   607.,   607.,   614.,   614.,   614.,   614.,   614.,\n",
       "         614.,   614.,   614.,   614.,   607.,   607.,   614.,   614.,\n",
       "         607.,   607.,   607.,   601.,   601.,   601.,   607.,   601.,\n",
       "         607.,   607.,   607.,   607.,   607.,   601.,   601.,   594.,\n",
       "         594.,   594.,   594.,   601.,   601.,   601.,   607.,   601.,\n",
       "         601.,   601.,   594.,   594.,   594.,   594.,   594.,   594.,\n",
       "         594.,   594.,   594.,   594.,   588.,   588.,   588.,   588.,\n",
       "         588.,   588.,   588.,   588.,   594.,   594.,   594.,   594.,\n",
       "         601.,   594.,   594.,   601.,   594.,   594.,   594.,   594.,\n",
       "         588.,   588.,   588.,   588.,   594.,   594.,   601.,   601.,\n",
       "         601.,   601.,   601.,   601.,   601.,   601.,   594.,   594.,\n",
       "         601.,   601.,   601.,   601.,   607.,   601.,   601.,   601.,\n",
       "         594.,   594.,   588.,   588.,   588.,   588.,   588.,   588.,\n",
       "         594.,   594.,   601.,   601.,   601.,   601.,   601.,   601.,\n",
       "         601.,   601.,   601.,   601.,   601.,   607.,   607.,   607.,\n",
       "         607.,   614.,   614.,   607.,   607.,   607.,   601.,   594.,\n",
       "         594.,   601.,   601.,   601.,   607.,   607.,   614.,   620.,\n",
       "         620.,   620.,   620.,   620.,   620.,   620.,   620.,   620.,\n",
       "         620.,   627.,   627.,   627.,   627.,   633.,   627.,   627.,\n",
       "         620.,   620.,   620.,   620.,   614.,   614.,   614.,   614.,\n",
       "         614.,   614.,   614.,   614.,   614.,   614.,   614.,   614.,\n",
       "         614.,   614.,   614.,   614.,   614.,   614.,   614.,   614.,\n",
       "         614.,   614.,   614.,   614.,   614.,   607.,   607.,   607.,\n",
       "         601.,   601.,   607.,   607.,   614.,   620.,   620.,   620.,\n",
       "         620.,   620.,   614.,   614.,   614.,   614.,   620.,   620.,\n",
       "         620.,   620.,   620.,   627.,   627.,   627.,   620.,   620.,\n",
       "         620.,   614.,   614.,   607.,   607.,   607.,   607.,   607.,\n",
       "         607.,   607.,   607.,   607.,   607.,   607.,   607.,   607.,\n",
       "         607.,   607.,   607.,   607.,   607.,   607.,   607.,   607.,\n",
       "         607.,   607.,   607.,   601.,   594.,   594.,   588.,   588.,\n",
       "         594.,   594.,   601.,   607.,   607.,   607.,   607.,   607.,\n",
       "         607.,   607.,   607.,   607.,   607.,   607.,   614.,   614.,\n",
       "         614.,   614.,   614.,   614.,   614.,   614.,   607.,   607.,\n",
       "         607.,   607.,   607.,   607.,   601.,   601.,   601.,   601.,\n",
       "         601.,   601.,   601.,   601.,   601.,   601.,   601.,   601.,\n",
       "         601.,   601.,   601.])"
      ]
     },
     "execution_count": 55,
     "metadata": {},
     "output_type": "execute_result"
    }
   ],
   "source": [
    "data[0]"
   ]
  }
 ],
 "metadata": {
  "kernelspec": {
   "display_name": "Python 2",
   "language": "python",
   "name": "python2"
  },
  "language_info": {
   "codemirror_mode": {
    "name": "ipython",
    "version": 2
   },
   "file_extension": ".py",
   "mimetype": "text/x-python",
   "name": "python",
   "nbconvert_exporter": "python",
   "pygments_lexer": "ipython2",
   "version": "2.7.9"
  }
 },
 "nbformat": 4,
 "nbformat_minor": 0
}
